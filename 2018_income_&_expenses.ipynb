{
  "nbformat": 4,
  "nbformat_minor": 0,
  "metadata": {
    "colab": {
      "provenance": [],
      "authorship_tag": "ABX9TyNLBPY0awn4qFKilPHX4MWu",
      "include_colab_link": true
    },
    "kernelspec": {
      "name": "python3",
      "display_name": "Python 3"
    },
    "language_info": {
      "name": "python"
    }
  },
  "cells": [
    {
      "cell_type": "markdown",
      "metadata": {
        "id": "view-in-github",
        "colab_type": "text"
      },
      "source": [
        "<a href=\"https://colab.research.google.com/github/KelvinLam05/cash_book/blob/main/2018_income_%26_expenses.ipynb\" target=\"_parent\"><img src=\"https://colab.research.google.com/assets/colab-badge.svg\" alt=\"Open In Colab\"/></a>"
      ]
    },
    {
      "cell_type": "markdown",
      "source": [
        "**Import the package**"
      ],
      "metadata": {
        "id": "YqWGH98DEVD2"
      }
    },
    {
      "cell_type": "code",
      "execution_count": 1,
      "metadata": {
        "id": "go3mfF2jKq9u"
      },
      "outputs": [],
      "source": [
        "# Importing library\n",
        "import pandas as pd"
      ]
    },
    {
      "cell_type": "markdown",
      "source": [
        "**Load the data**"
      ],
      "metadata": {
        "id": "1V4hNkLcEet5"
      }
    },
    {
      "cell_type": "markdown",
      "source": [
        "For the cash book I’ve used a [personal transaction dataset](https://www.kaggle.com/datasets/bukolafatunde/personal-finance) from Kaggle."
      ],
      "metadata": {
        "id": "kTypXmYBNKuc"
      }
    },
    {
      "cell_type": "code",
      "source": [
        "# Load dataset\n",
        "df = pd.read_csv('/content/personal_transactions.csv')"
      ],
      "metadata": {
        "id": "6l0dTBEfK_JB"
      },
      "execution_count": 2,
      "outputs": []
    },
    {
      "cell_type": "code",
      "source": [
        "# Examine the data\n",
        "df.head()"
      ],
      "metadata": {
        "colab": {
          "base_uri": "https://localhost:8080/",
          "height": 204
        },
        "id": "bD5QRM0nLgnc",
        "outputId": "3d8fbe35-d75f-4150-eba6-a7ef3966e7e5"
      },
      "execution_count": 3,
      "outputs": [
        {
          "output_type": "execute_result",
          "data": {
            "text/plain": [
              "         Date          Description   Amount Transaction Type  \\\n",
              "0  01/01/2018               Amazon    11.11            debit   \n",
              "1  01/02/2018     Mortgage Payment  1247.44            debit   \n",
              "2  01/02/2018      Thai Restaurant    24.22            debit   \n",
              "3  01/03/2018  Credit Card Payment  2298.09           credit   \n",
              "4  01/04/2018              Netflix    11.76            debit   \n",
              "\n",
              "              Category   Account Name  \n",
              "0             Shopping  Platinum Card  \n",
              "1      Mortgage & Rent       Checking  \n",
              "2          Restaurants    Silver Card  \n",
              "3  Credit Card Payment  Platinum Card  \n",
              "4        Movies & DVDs  Platinum Card  "
            ],
            "text/html": [
              "\n",
              "  <div id=\"df-0776107a-75e4-459e-8490-c7f7f9e02d12\">\n",
              "    <div class=\"colab-df-container\">\n",
              "      <div>\n",
              "<style scoped>\n",
              "    .dataframe tbody tr th:only-of-type {\n",
              "        vertical-align: middle;\n",
              "    }\n",
              "\n",
              "    .dataframe tbody tr th {\n",
              "        vertical-align: top;\n",
              "    }\n",
              "\n",
              "    .dataframe thead th {\n",
              "        text-align: right;\n",
              "    }\n",
              "</style>\n",
              "<table border=\"1\" class=\"dataframe\">\n",
              "  <thead>\n",
              "    <tr style=\"text-align: right;\">\n",
              "      <th></th>\n",
              "      <th>Date</th>\n",
              "      <th>Description</th>\n",
              "      <th>Amount</th>\n",
              "      <th>Transaction Type</th>\n",
              "      <th>Category</th>\n",
              "      <th>Account Name</th>\n",
              "    </tr>\n",
              "  </thead>\n",
              "  <tbody>\n",
              "    <tr>\n",
              "      <th>0</th>\n",
              "      <td>01/01/2018</td>\n",
              "      <td>Amazon</td>\n",
              "      <td>11.11</td>\n",
              "      <td>debit</td>\n",
              "      <td>Shopping</td>\n",
              "      <td>Platinum Card</td>\n",
              "    </tr>\n",
              "    <tr>\n",
              "      <th>1</th>\n",
              "      <td>01/02/2018</td>\n",
              "      <td>Mortgage Payment</td>\n",
              "      <td>1247.44</td>\n",
              "      <td>debit</td>\n",
              "      <td>Mortgage &amp; Rent</td>\n",
              "      <td>Checking</td>\n",
              "    </tr>\n",
              "    <tr>\n",
              "      <th>2</th>\n",
              "      <td>01/02/2018</td>\n",
              "      <td>Thai Restaurant</td>\n",
              "      <td>24.22</td>\n",
              "      <td>debit</td>\n",
              "      <td>Restaurants</td>\n",
              "      <td>Silver Card</td>\n",
              "    </tr>\n",
              "    <tr>\n",
              "      <th>3</th>\n",
              "      <td>01/03/2018</td>\n",
              "      <td>Credit Card Payment</td>\n",
              "      <td>2298.09</td>\n",
              "      <td>credit</td>\n",
              "      <td>Credit Card Payment</td>\n",
              "      <td>Platinum Card</td>\n",
              "    </tr>\n",
              "    <tr>\n",
              "      <th>4</th>\n",
              "      <td>01/04/2018</td>\n",
              "      <td>Netflix</td>\n",
              "      <td>11.76</td>\n",
              "      <td>debit</td>\n",
              "      <td>Movies &amp; DVDs</td>\n",
              "      <td>Platinum Card</td>\n",
              "    </tr>\n",
              "  </tbody>\n",
              "</table>\n",
              "</div>\n",
              "      <button class=\"colab-df-convert\" onclick=\"convertToInteractive('df-0776107a-75e4-459e-8490-c7f7f9e02d12')\"\n",
              "              title=\"Convert this dataframe to an interactive table.\"\n",
              "              style=\"display:none;\">\n",
              "        \n",
              "  <svg xmlns=\"http://www.w3.org/2000/svg\" height=\"24px\"viewBox=\"0 0 24 24\"\n",
              "       width=\"24px\">\n",
              "    <path d=\"M0 0h24v24H0V0z\" fill=\"none\"/>\n",
              "    <path d=\"M18.56 5.44l.94 2.06.94-2.06 2.06-.94-2.06-.94-.94-2.06-.94 2.06-2.06.94zm-11 1L8.5 8.5l.94-2.06 2.06-.94-2.06-.94L8.5 2.5l-.94 2.06-2.06.94zm10 10l.94 2.06.94-2.06 2.06-.94-2.06-.94-.94-2.06-.94 2.06-2.06.94z\"/><path d=\"M17.41 7.96l-1.37-1.37c-.4-.4-.92-.59-1.43-.59-.52 0-1.04.2-1.43.59L10.3 9.45l-7.72 7.72c-.78.78-.78 2.05 0 2.83L4 21.41c.39.39.9.59 1.41.59.51 0 1.02-.2 1.41-.59l7.78-7.78 2.81-2.81c.8-.78.8-2.07 0-2.86zM5.41 20L4 18.59l7.72-7.72 1.47 1.35L5.41 20z\"/>\n",
              "  </svg>\n",
              "      </button>\n",
              "      \n",
              "  <style>\n",
              "    .colab-df-container {\n",
              "      display:flex;\n",
              "      flex-wrap:wrap;\n",
              "      gap: 12px;\n",
              "    }\n",
              "\n",
              "    .colab-df-convert {\n",
              "      background-color: #E8F0FE;\n",
              "      border: none;\n",
              "      border-radius: 50%;\n",
              "      cursor: pointer;\n",
              "      display: none;\n",
              "      fill: #1967D2;\n",
              "      height: 32px;\n",
              "      padding: 0 0 0 0;\n",
              "      width: 32px;\n",
              "    }\n",
              "\n",
              "    .colab-df-convert:hover {\n",
              "      background-color: #E2EBFA;\n",
              "      box-shadow: 0px 1px 2px rgba(60, 64, 67, 0.3), 0px 1px 3px 1px rgba(60, 64, 67, 0.15);\n",
              "      fill: #174EA6;\n",
              "    }\n",
              "\n",
              "    [theme=dark] .colab-df-convert {\n",
              "      background-color: #3B4455;\n",
              "      fill: #D2E3FC;\n",
              "    }\n",
              "\n",
              "    [theme=dark] .colab-df-convert:hover {\n",
              "      background-color: #434B5C;\n",
              "      box-shadow: 0px 1px 3px 1px rgba(0, 0, 0, 0.15);\n",
              "      filter: drop-shadow(0px 1px 2px rgba(0, 0, 0, 0.3));\n",
              "      fill: #FFFFFF;\n",
              "    }\n",
              "  </style>\n",
              "\n",
              "      <script>\n",
              "        const buttonEl =\n",
              "          document.querySelector('#df-0776107a-75e4-459e-8490-c7f7f9e02d12 button.colab-df-convert');\n",
              "        buttonEl.style.display =\n",
              "          google.colab.kernel.accessAllowed ? 'block' : 'none';\n",
              "\n",
              "        async function convertToInteractive(key) {\n",
              "          const element = document.querySelector('#df-0776107a-75e4-459e-8490-c7f7f9e02d12');\n",
              "          const dataTable =\n",
              "            await google.colab.kernel.invokeFunction('convertToInteractive',\n",
              "                                                     [key], {});\n",
              "          if (!dataTable) return;\n",
              "\n",
              "          const docLinkHtml = 'Like what you see? Visit the ' +\n",
              "            '<a target=\"_blank\" href=https://colab.research.google.com/notebooks/data_table.ipynb>data table notebook</a>'\n",
              "            + ' to learn more about interactive tables.';\n",
              "          element.innerHTML = '';\n",
              "          dataTable['output_type'] = 'display_data';\n",
              "          await google.colab.output.renderOutput(dataTable, element);\n",
              "          const docLink = document.createElement('div');\n",
              "          docLink.innerHTML = docLinkHtml;\n",
              "          element.appendChild(docLink);\n",
              "        }\n",
              "      </script>\n",
              "    </div>\n",
              "  </div>\n",
              "  "
            ]
          },
          "metadata": {},
          "execution_count": 3
        }
      ]
    },
    {
      "cell_type": "code",
      "source": [
        "# Overview of all variables, their datatypes\n",
        "df.info()"
      ],
      "metadata": {
        "colab": {
          "base_uri": "https://localhost:8080/"
        },
        "id": "optROkN_EkjF",
        "outputId": "e8a8e762-ca3e-4865-c4f2-1b5b70d192bc"
      },
      "execution_count": 4,
      "outputs": [
        {
          "output_type": "stream",
          "name": "stdout",
          "text": [
            "<class 'pandas.core.frame.DataFrame'>\n",
            "RangeIndex: 806 entries, 0 to 805\n",
            "Data columns (total 6 columns):\n",
            " #   Column            Non-Null Count  Dtype  \n",
            "---  ------            --------------  -----  \n",
            " 0   Date              806 non-null    object \n",
            " 1   Description       806 non-null    object \n",
            " 2   Amount            806 non-null    float64\n",
            " 3   Transaction Type  806 non-null    object \n",
            " 4   Category          806 non-null    object \n",
            " 5   Account Name      806 non-null    object \n",
            "dtypes: float64(1), object(5)\n",
            "memory usage: 37.9+ KB\n"
          ]
        }
      ]
    },
    {
      "cell_type": "markdown",
      "source": [
        "**Prepare the data**"
      ],
      "metadata": {
        "id": "P0-9EwUcEvAF"
      }
    },
    {
      "cell_type": "code",
      "source": [
        "df[['Category', 'Transaction Type']].value_counts()"
      ],
      "metadata": {
        "colab": {
          "base_uri": "https://localhost:8080/"
        },
        "id": "BEFo9SmqNeON",
        "outputId": "bc612c94-87de-444d-ea89-b8cd21661402"
      },
      "execution_count": 15,
      "outputs": [
        {
          "output_type": "execute_result",
          "data": {
            "text/plain": [
              "Category                Transaction Type\n",
              "Credit Card Payment     debit               143\n",
              "Groceries               debit               105\n",
              "Restaurants             debit                81\n",
              "Utilities               debit                63\n",
              "Shopping                debit                60\n",
              "Gas & Fuel              debit                52\n",
              "Paycheck                credit               46\n",
              "Home Improvement        debit                36\n",
              "Coffee Shops            debit                31\n",
              "Alcohol & Bars          debit                25\n",
              "Internet                debit                21\n",
              "Mobile Phone            debit                21\n",
              "Mortgage & Rent         debit                21\n",
              "Music                   debit                21\n",
              "Auto Insurance          debit                18\n",
              "Movies & DVDs           debit                18\n",
              "Fast Food               debit                16\n",
              "Haircut                 debit                13\n",
              "Television              debit                 8\n",
              "Electronics & Software  debit                 4\n",
              "Food & Dining           debit                 2\n",
              "Entertainment           debit                 1\n",
              "dtype: int64"
            ]
          },
          "metadata": {},
          "execution_count": 15
        }
      ]
    },
    {
      "cell_type": "code",
      "source": [
        "# Change credit card payment type to debit\n",
        "df.loc[df['Category'] == 'Credit Card Payment', 'Transaction Type'] = 'debit'"
      ],
      "metadata": {
        "id": "oe4FuyQgPAcP"
      },
      "execution_count": 6,
      "outputs": []
    },
    {
      "cell_type": "code",
      "source": [
        "# Convert the date to datetime64\n",
        "df['Date'] = pd.to_datetime(df['Date'])"
      ],
      "metadata": {
        "id": "J88v13f4U7b6"
      },
      "execution_count": 7,
      "outputs": []
    },
    {
      "cell_type": "code",
      "source": [
        "# Filter data for specific year (2018)\n",
        "filtered_df = df.loc[df['Date'].dt.year == 2018]"
      ],
      "metadata": {
        "id": "PbSnY93jE2_t"
      },
      "execution_count": 8,
      "outputs": []
    },
    {
      "cell_type": "code",
      "source": [
        "# Capitalize first letter\n",
        "filtered_df['Transaction Type'] = filtered_df['Transaction Type'].str.capitalize()"
      ],
      "metadata": {
        "id": "sL8eTytlaoXk"
      },
      "execution_count": null,
      "outputs": []
    },
    {
      "cell_type": "code",
      "source": [
        "# Convert the column 'Amount' from float to string\n",
        "filtered_df['Amount'] = filtered_df['Amount'].astype(str)"
      ],
      "metadata": {
        "id": "QGM8btZ9Lmem"
      },
      "execution_count": null,
      "outputs": []
    },
    {
      "cell_type": "code",
      "source": [
        "# Change decimals to commas \n",
        "filtered_df['Amount'] = filtered_df['Amount'].str.replace('.', ',')"
      ],
      "metadata": {
        "id": "m46MKtZMLo8O"
      },
      "execution_count": null,
      "outputs": []
    },
    {
      "cell_type": "code",
      "source": [
        "# Only include the relevant columns\n",
        "filtered_df = filtered_df[['Date', 'Category', 'Description', 'Transaction Type', 'Amount']]"
      ],
      "metadata": {
        "id": "ensmGJG4LrHf"
      },
      "execution_count": 12,
      "outputs": []
    },
    {
      "cell_type": "code",
      "source": [
        "# View new dataframe\n",
        "filtered_df.head()"
      ],
      "metadata": {
        "colab": {
          "base_uri": "https://localhost:8080/",
          "height": 204
        },
        "id": "YvHUrDClMVYo",
        "outputId": "2d931160-f54b-4ed9-ddc5-e1aff93517a5"
      },
      "execution_count": 13,
      "outputs": [
        {
          "output_type": "execute_result",
          "data": {
            "text/plain": [
              "        Date             Category          Description Transaction Type  \\\n",
              "0 2018-01-01             Shopping               Amazon            Debit   \n",
              "1 2018-01-02      Mortgage & Rent     Mortgage Payment            Debit   \n",
              "2 2018-01-02          Restaurants      Thai Restaurant            Debit   \n",
              "3 2018-01-03  Credit Card Payment  Credit Card Payment            Debit   \n",
              "4 2018-01-04        Movies & DVDs              Netflix            Debit   \n",
              "\n",
              "    Amount  \n",
              "0    11,11  \n",
              "1  1247,44  \n",
              "2    24,22  \n",
              "3  2298,09  \n",
              "4    11,76  "
            ],
            "text/html": [
              "\n",
              "  <div id=\"df-28c36321-3753-420f-8886-fb1e15ff2cea\">\n",
              "    <div class=\"colab-df-container\">\n",
              "      <div>\n",
              "<style scoped>\n",
              "    .dataframe tbody tr th:only-of-type {\n",
              "        vertical-align: middle;\n",
              "    }\n",
              "\n",
              "    .dataframe tbody tr th {\n",
              "        vertical-align: top;\n",
              "    }\n",
              "\n",
              "    .dataframe thead th {\n",
              "        text-align: right;\n",
              "    }\n",
              "</style>\n",
              "<table border=\"1\" class=\"dataframe\">\n",
              "  <thead>\n",
              "    <tr style=\"text-align: right;\">\n",
              "      <th></th>\n",
              "      <th>Date</th>\n",
              "      <th>Category</th>\n",
              "      <th>Description</th>\n",
              "      <th>Transaction Type</th>\n",
              "      <th>Amount</th>\n",
              "    </tr>\n",
              "  </thead>\n",
              "  <tbody>\n",
              "    <tr>\n",
              "      <th>0</th>\n",
              "      <td>2018-01-01</td>\n",
              "      <td>Shopping</td>\n",
              "      <td>Amazon</td>\n",
              "      <td>Debit</td>\n",
              "      <td>11,11</td>\n",
              "    </tr>\n",
              "    <tr>\n",
              "      <th>1</th>\n",
              "      <td>2018-01-02</td>\n",
              "      <td>Mortgage &amp; Rent</td>\n",
              "      <td>Mortgage Payment</td>\n",
              "      <td>Debit</td>\n",
              "      <td>1247,44</td>\n",
              "    </tr>\n",
              "    <tr>\n",
              "      <th>2</th>\n",
              "      <td>2018-01-02</td>\n",
              "      <td>Restaurants</td>\n",
              "      <td>Thai Restaurant</td>\n",
              "      <td>Debit</td>\n",
              "      <td>24,22</td>\n",
              "    </tr>\n",
              "    <tr>\n",
              "      <th>3</th>\n",
              "      <td>2018-01-03</td>\n",
              "      <td>Credit Card Payment</td>\n",
              "      <td>Credit Card Payment</td>\n",
              "      <td>Debit</td>\n",
              "      <td>2298,09</td>\n",
              "    </tr>\n",
              "    <tr>\n",
              "      <th>4</th>\n",
              "      <td>2018-01-04</td>\n",
              "      <td>Movies &amp; DVDs</td>\n",
              "      <td>Netflix</td>\n",
              "      <td>Debit</td>\n",
              "      <td>11,76</td>\n",
              "    </tr>\n",
              "  </tbody>\n",
              "</table>\n",
              "</div>\n",
              "      <button class=\"colab-df-convert\" onclick=\"convertToInteractive('df-28c36321-3753-420f-8886-fb1e15ff2cea')\"\n",
              "              title=\"Convert this dataframe to an interactive table.\"\n",
              "              style=\"display:none;\">\n",
              "        \n",
              "  <svg xmlns=\"http://www.w3.org/2000/svg\" height=\"24px\"viewBox=\"0 0 24 24\"\n",
              "       width=\"24px\">\n",
              "    <path d=\"M0 0h24v24H0V0z\" fill=\"none\"/>\n",
              "    <path d=\"M18.56 5.44l.94 2.06.94-2.06 2.06-.94-2.06-.94-.94-2.06-.94 2.06-2.06.94zm-11 1L8.5 8.5l.94-2.06 2.06-.94-2.06-.94L8.5 2.5l-.94 2.06-2.06.94zm10 10l.94 2.06.94-2.06 2.06-.94-2.06-.94-.94-2.06-.94 2.06-2.06.94z\"/><path d=\"M17.41 7.96l-1.37-1.37c-.4-.4-.92-.59-1.43-.59-.52 0-1.04.2-1.43.59L10.3 9.45l-7.72 7.72c-.78.78-.78 2.05 0 2.83L4 21.41c.39.39.9.59 1.41.59.51 0 1.02-.2 1.41-.59l7.78-7.78 2.81-2.81c.8-.78.8-2.07 0-2.86zM5.41 20L4 18.59l7.72-7.72 1.47 1.35L5.41 20z\"/>\n",
              "  </svg>\n",
              "      </button>\n",
              "      \n",
              "  <style>\n",
              "    .colab-df-container {\n",
              "      display:flex;\n",
              "      flex-wrap:wrap;\n",
              "      gap: 12px;\n",
              "    }\n",
              "\n",
              "    .colab-df-convert {\n",
              "      background-color: #E8F0FE;\n",
              "      border: none;\n",
              "      border-radius: 50%;\n",
              "      cursor: pointer;\n",
              "      display: none;\n",
              "      fill: #1967D2;\n",
              "      height: 32px;\n",
              "      padding: 0 0 0 0;\n",
              "      width: 32px;\n",
              "    }\n",
              "\n",
              "    .colab-df-convert:hover {\n",
              "      background-color: #E2EBFA;\n",
              "      box-shadow: 0px 1px 2px rgba(60, 64, 67, 0.3), 0px 1px 3px 1px rgba(60, 64, 67, 0.15);\n",
              "      fill: #174EA6;\n",
              "    }\n",
              "\n",
              "    [theme=dark] .colab-df-convert {\n",
              "      background-color: #3B4455;\n",
              "      fill: #D2E3FC;\n",
              "    }\n",
              "\n",
              "    [theme=dark] .colab-df-convert:hover {\n",
              "      background-color: #434B5C;\n",
              "      box-shadow: 0px 1px 3px 1px rgba(0, 0, 0, 0.15);\n",
              "      filter: drop-shadow(0px 1px 2px rgba(0, 0, 0, 0.3));\n",
              "      fill: #FFFFFF;\n",
              "    }\n",
              "  </style>\n",
              "\n",
              "      <script>\n",
              "        const buttonEl =\n",
              "          document.querySelector('#df-28c36321-3753-420f-8886-fb1e15ff2cea button.colab-df-convert');\n",
              "        buttonEl.style.display =\n",
              "          google.colab.kernel.accessAllowed ? 'block' : 'none';\n",
              "\n",
              "        async function convertToInteractive(key) {\n",
              "          const element = document.querySelector('#df-28c36321-3753-420f-8886-fb1e15ff2cea');\n",
              "          const dataTable =\n",
              "            await google.colab.kernel.invokeFunction('convertToInteractive',\n",
              "                                                     [key], {});\n",
              "          if (!dataTable) return;\n",
              "\n",
              "          const docLinkHtml = 'Like what you see? Visit the ' +\n",
              "            '<a target=\"_blank\" href=https://colab.research.google.com/notebooks/data_table.ipynb>data table notebook</a>'\n",
              "            + ' to learn more about interactive tables.';\n",
              "          element.innerHTML = '';\n",
              "          dataTable['output_type'] = 'display_data';\n",
              "          await google.colab.output.renderOutput(dataTable, element);\n",
              "          const docLink = document.createElement('div');\n",
              "          docLink.innerHTML = docLinkHtml;\n",
              "          element.appendChild(docLink);\n",
              "        }\n",
              "      </script>\n",
              "    </div>\n",
              "  </div>\n",
              "  "
            ]
          },
          "metadata": {},
          "execution_count": 13
        }
      ]
    },
    {
      "cell_type": "code",
      "source": [
        "# Convert dataframe to csv\n",
        "filtered_df.to_csv('/content/2018_income_&_expenses.csv', index = None, header = True)"
      ],
      "metadata": {
        "id": "iptO3Q_5NCFi"
      },
      "execution_count": 14,
      "outputs": []
    }
  ]
}